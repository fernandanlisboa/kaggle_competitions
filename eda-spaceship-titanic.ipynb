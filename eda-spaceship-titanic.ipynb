{
 "cells": [
  {
   "cell_type": "code",
   "execution_count": 1,
   "id": "794657b7",
   "metadata": {
    "_cell_guid": "b1076dfc-b9ad-4769-8c92-a6c4dae69d19",
    "_uuid": "8f2839f25d086af736a60e9eeb907d3b93b6e0e5",
    "execution": {
     "iopub.execute_input": "2022-11-18T21:16:47.296494Z",
     "iopub.status.busy": "2022-11-18T21:16:47.295669Z",
     "iopub.status.idle": "2022-11-18T21:16:47.310098Z",
     "shell.execute_reply": "2022-11-18T21:16:47.308741Z"
    },
    "papermill": {
     "duration": 0.030712,
     "end_time": "2022-11-18T21:16:47.313187",
     "exception": false,
     "start_time": "2022-11-18T21:16:47.282475",
     "status": "completed"
    },
    "tags": []
   },
   "outputs": [
    {
     "name": "stdout",
     "output_type": "stream",
     "text": [
      "/kaggle/input/spaceship-titanic/sample_submission.csv\n",
      "/kaggle/input/spaceship-titanic/train.csv\n",
      "/kaggle/input/spaceship-titanic/test.csv\n"
     ]
    }
   ],
   "source": [
    "# This Python 3 environment comes with many helpful analytics libraries installed\n",
    "# It is defined by the kaggle/python Docker image: https://github.com/kaggle/docker-python\n",
    "# For example, here's several helpful packages to load\n",
    "\n",
    "import numpy as np # linear algebra\n",
    "import pandas as pd # data processing, CSV file I/O (e.g. pd.read_csv)\n",
    "\n",
    "# Input data files are available in the read-only \"../input/\" directory\n",
    "# For example, running this (by clicking run or pressing Shift+Enter) will list all files under the input directory\n",
    "\n",
    "import os\n",
    "for dirname, _, filenames in os.walk('/kaggle/input'):\n",
    "    for filename in filenames:\n",
    "        print(os.path.join(dirname, filename))\n",
    "\n",
    "# You can write up to 20GB to the current directory (/kaggle/working/) that gets preserved as output when you create a version using \"Save & Run All\" \n",
    "# You can also write temporary files to /kaggle/temp/, but they won't be saved outside of the current session"
   ]
  },
  {
   "cell_type": "code",
   "execution_count": 2,
   "id": "905a6dca",
   "metadata": {
    "execution": {
     "iopub.execute_input": "2022-11-18T21:16:47.334616Z",
     "iopub.status.busy": "2022-11-18T21:16:47.334166Z",
     "iopub.status.idle": "2022-11-18T21:16:47.420719Z",
     "shell.execute_reply": "2022-11-18T21:16:47.419532Z"
    },
    "papermill": {
     "duration": 0.100079,
     "end_time": "2022-11-18T21:16:47.423554",
     "exception": false,
     "start_time": "2022-11-18T21:16:47.323475",
     "status": "completed"
    },
    "tags": []
   },
   "outputs": [],
   "source": [
    "# getting data\n",
    "\n",
    "base_path = '../input/spaceship-titanic'\n",
    "df_train = pd.read_csv(os.path.join(base_path,'train.csv'), index_col='PassengerId')\n",
    "df_test  = pd.read_csv(os.path.join(base_path,'test.csv'), index_col='PassengerId')"
   ]
  },
  {
   "cell_type": "code",
   "execution_count": 3,
   "id": "76ab154c",
   "metadata": {
    "execution": {
     "iopub.execute_input": "2022-11-18T21:16:47.444229Z",
     "iopub.status.busy": "2022-11-18T21:16:47.443758Z",
     "iopub.status.idle": "2022-11-18T21:16:47.490201Z",
     "shell.execute_reply": "2022-11-18T21:16:47.488997Z"
    },
    "papermill": {
     "duration": 0.0594,
     "end_time": "2022-11-18T21:16:47.492755",
     "exception": false,
     "start_time": "2022-11-18T21:16:47.433355",
     "status": "completed"
    },
    "tags": []
   },
   "outputs": [
    {
     "data": {
      "text/html": [
       "<div>\n",
       "<style scoped>\n",
       "    .dataframe tbody tr th:only-of-type {\n",
       "        vertical-align: middle;\n",
       "    }\n",
       "\n",
       "    .dataframe tbody tr th {\n",
       "        vertical-align: top;\n",
       "    }\n",
       "\n",
       "    .dataframe thead th {\n",
       "        text-align: right;\n",
       "    }\n",
       "</style>\n",
       "<table border=\"1\" class=\"dataframe\">\n",
       "  <thead>\n",
       "    <tr style=\"text-align: right;\">\n",
       "      <th></th>\n",
       "      <th>HomePlanet</th>\n",
       "      <th>CryoSleep</th>\n",
       "      <th>Cabin</th>\n",
       "      <th>Destination</th>\n",
       "      <th>Age</th>\n",
       "      <th>VIP</th>\n",
       "      <th>RoomService</th>\n",
       "      <th>FoodCourt</th>\n",
       "      <th>ShoppingMall</th>\n",
       "      <th>Spa</th>\n",
       "      <th>VRDeck</th>\n",
       "      <th>Name</th>\n",
       "      <th>Transported</th>\n",
       "    </tr>\n",
       "    <tr>\n",
       "      <th>PassengerId</th>\n",
       "      <th></th>\n",
       "      <th></th>\n",
       "      <th></th>\n",
       "      <th></th>\n",
       "      <th></th>\n",
       "      <th></th>\n",
       "      <th></th>\n",
       "      <th></th>\n",
       "      <th></th>\n",
       "      <th></th>\n",
       "      <th></th>\n",
       "      <th></th>\n",
       "      <th></th>\n",
       "    </tr>\n",
       "  </thead>\n",
       "  <tbody>\n",
       "    <tr>\n",
       "      <th>0001_01</th>\n",
       "      <td>Europa</td>\n",
       "      <td>False</td>\n",
       "      <td>B/0/P</td>\n",
       "      <td>TRAPPIST-1e</td>\n",
       "      <td>39.0</td>\n",
       "      <td>False</td>\n",
       "      <td>0.0</td>\n",
       "      <td>0.0</td>\n",
       "      <td>0.0</td>\n",
       "      <td>0.0</td>\n",
       "      <td>0.0</td>\n",
       "      <td>Maham Ofracculy</td>\n",
       "      <td>False</td>\n",
       "    </tr>\n",
       "    <tr>\n",
       "      <th>0002_01</th>\n",
       "      <td>Earth</td>\n",
       "      <td>False</td>\n",
       "      <td>F/0/S</td>\n",
       "      <td>TRAPPIST-1e</td>\n",
       "      <td>24.0</td>\n",
       "      <td>False</td>\n",
       "      <td>109.0</td>\n",
       "      <td>9.0</td>\n",
       "      <td>25.0</td>\n",
       "      <td>549.0</td>\n",
       "      <td>44.0</td>\n",
       "      <td>Juanna Vines</td>\n",
       "      <td>True</td>\n",
       "    </tr>\n",
       "    <tr>\n",
       "      <th>0003_01</th>\n",
       "      <td>Europa</td>\n",
       "      <td>False</td>\n",
       "      <td>A/0/S</td>\n",
       "      <td>TRAPPIST-1e</td>\n",
       "      <td>58.0</td>\n",
       "      <td>True</td>\n",
       "      <td>43.0</td>\n",
       "      <td>3576.0</td>\n",
       "      <td>0.0</td>\n",
       "      <td>6715.0</td>\n",
       "      <td>49.0</td>\n",
       "      <td>Altark Susent</td>\n",
       "      <td>False</td>\n",
       "    </tr>\n",
       "    <tr>\n",
       "      <th>0003_02</th>\n",
       "      <td>Europa</td>\n",
       "      <td>False</td>\n",
       "      <td>A/0/S</td>\n",
       "      <td>TRAPPIST-1e</td>\n",
       "      <td>33.0</td>\n",
       "      <td>False</td>\n",
       "      <td>0.0</td>\n",
       "      <td>1283.0</td>\n",
       "      <td>371.0</td>\n",
       "      <td>3329.0</td>\n",
       "      <td>193.0</td>\n",
       "      <td>Solam Susent</td>\n",
       "      <td>False</td>\n",
       "    </tr>\n",
       "    <tr>\n",
       "      <th>0004_01</th>\n",
       "      <td>Earth</td>\n",
       "      <td>False</td>\n",
       "      <td>F/1/S</td>\n",
       "      <td>TRAPPIST-1e</td>\n",
       "      <td>16.0</td>\n",
       "      <td>False</td>\n",
       "      <td>303.0</td>\n",
       "      <td>70.0</td>\n",
       "      <td>151.0</td>\n",
       "      <td>565.0</td>\n",
       "      <td>2.0</td>\n",
       "      <td>Willy Santantines</td>\n",
       "      <td>True</td>\n",
       "    </tr>\n",
       "    <tr>\n",
       "      <th>...</th>\n",
       "      <td>...</td>\n",
       "      <td>...</td>\n",
       "      <td>...</td>\n",
       "      <td>...</td>\n",
       "      <td>...</td>\n",
       "      <td>...</td>\n",
       "      <td>...</td>\n",
       "      <td>...</td>\n",
       "      <td>...</td>\n",
       "      <td>...</td>\n",
       "      <td>...</td>\n",
       "      <td>...</td>\n",
       "      <td>...</td>\n",
       "    </tr>\n",
       "    <tr>\n",
       "      <th>9276_01</th>\n",
       "      <td>Europa</td>\n",
       "      <td>False</td>\n",
       "      <td>A/98/P</td>\n",
       "      <td>55 Cancri e</td>\n",
       "      <td>41.0</td>\n",
       "      <td>True</td>\n",
       "      <td>0.0</td>\n",
       "      <td>6819.0</td>\n",
       "      <td>0.0</td>\n",
       "      <td>1643.0</td>\n",
       "      <td>74.0</td>\n",
       "      <td>Gravior Noxnuther</td>\n",
       "      <td>False</td>\n",
       "    </tr>\n",
       "    <tr>\n",
       "      <th>9278_01</th>\n",
       "      <td>Earth</td>\n",
       "      <td>True</td>\n",
       "      <td>G/1499/S</td>\n",
       "      <td>PSO J318.5-22</td>\n",
       "      <td>18.0</td>\n",
       "      <td>False</td>\n",
       "      <td>0.0</td>\n",
       "      <td>0.0</td>\n",
       "      <td>0.0</td>\n",
       "      <td>0.0</td>\n",
       "      <td>0.0</td>\n",
       "      <td>Kurta Mondalley</td>\n",
       "      <td>False</td>\n",
       "    </tr>\n",
       "    <tr>\n",
       "      <th>9279_01</th>\n",
       "      <td>Earth</td>\n",
       "      <td>False</td>\n",
       "      <td>G/1500/S</td>\n",
       "      <td>TRAPPIST-1e</td>\n",
       "      <td>26.0</td>\n",
       "      <td>False</td>\n",
       "      <td>0.0</td>\n",
       "      <td>0.0</td>\n",
       "      <td>1872.0</td>\n",
       "      <td>1.0</td>\n",
       "      <td>0.0</td>\n",
       "      <td>Fayey Connon</td>\n",
       "      <td>True</td>\n",
       "    </tr>\n",
       "    <tr>\n",
       "      <th>9280_01</th>\n",
       "      <td>Europa</td>\n",
       "      <td>False</td>\n",
       "      <td>E/608/S</td>\n",
       "      <td>55 Cancri e</td>\n",
       "      <td>32.0</td>\n",
       "      <td>False</td>\n",
       "      <td>0.0</td>\n",
       "      <td>1049.0</td>\n",
       "      <td>0.0</td>\n",
       "      <td>353.0</td>\n",
       "      <td>3235.0</td>\n",
       "      <td>Celeon Hontichre</td>\n",
       "      <td>False</td>\n",
       "    </tr>\n",
       "    <tr>\n",
       "      <th>9280_02</th>\n",
       "      <td>Europa</td>\n",
       "      <td>False</td>\n",
       "      <td>E/608/S</td>\n",
       "      <td>TRAPPIST-1e</td>\n",
       "      <td>44.0</td>\n",
       "      <td>False</td>\n",
       "      <td>126.0</td>\n",
       "      <td>4688.0</td>\n",
       "      <td>0.0</td>\n",
       "      <td>0.0</td>\n",
       "      <td>12.0</td>\n",
       "      <td>Propsh Hontichre</td>\n",
       "      <td>True</td>\n",
       "    </tr>\n",
       "  </tbody>\n",
       "</table>\n",
       "<p>8693 rows × 13 columns</p>\n",
       "</div>"
      ],
      "text/plain": [
       "            HomePlanet CryoSleep     Cabin    Destination   Age    VIP  \\\n",
       "PassengerId                                                              \n",
       "0001_01         Europa     False     B/0/P    TRAPPIST-1e  39.0  False   \n",
       "0002_01          Earth     False     F/0/S    TRAPPIST-1e  24.0  False   \n",
       "0003_01         Europa     False     A/0/S    TRAPPIST-1e  58.0   True   \n",
       "0003_02         Europa     False     A/0/S    TRAPPIST-1e  33.0  False   \n",
       "0004_01          Earth     False     F/1/S    TRAPPIST-1e  16.0  False   \n",
       "...                ...       ...       ...            ...   ...    ...   \n",
       "9276_01         Europa     False    A/98/P    55 Cancri e  41.0   True   \n",
       "9278_01          Earth      True  G/1499/S  PSO J318.5-22  18.0  False   \n",
       "9279_01          Earth     False  G/1500/S    TRAPPIST-1e  26.0  False   \n",
       "9280_01         Europa     False   E/608/S    55 Cancri e  32.0  False   \n",
       "9280_02         Europa     False   E/608/S    TRAPPIST-1e  44.0  False   \n",
       "\n",
       "             RoomService  FoodCourt  ShoppingMall     Spa  VRDeck  \\\n",
       "PassengerId                                                         \n",
       "0001_01              0.0        0.0           0.0     0.0     0.0   \n",
       "0002_01            109.0        9.0          25.0   549.0    44.0   \n",
       "0003_01             43.0     3576.0           0.0  6715.0    49.0   \n",
       "0003_02              0.0     1283.0         371.0  3329.0   193.0   \n",
       "0004_01            303.0       70.0         151.0   565.0     2.0   \n",
       "...                  ...        ...           ...     ...     ...   \n",
       "9276_01              0.0     6819.0           0.0  1643.0    74.0   \n",
       "9278_01              0.0        0.0           0.0     0.0     0.0   \n",
       "9279_01              0.0        0.0        1872.0     1.0     0.0   \n",
       "9280_01              0.0     1049.0           0.0   353.0  3235.0   \n",
       "9280_02            126.0     4688.0           0.0     0.0    12.0   \n",
       "\n",
       "                          Name  Transported  \n",
       "PassengerId                                  \n",
       "0001_01        Maham Ofracculy        False  \n",
       "0002_01           Juanna Vines         True  \n",
       "0003_01          Altark Susent        False  \n",
       "0003_02           Solam Susent        False  \n",
       "0004_01      Willy Santantines         True  \n",
       "...                        ...          ...  \n",
       "9276_01      Gravior Noxnuther        False  \n",
       "9278_01        Kurta Mondalley        False  \n",
       "9279_01           Fayey Connon         True  \n",
       "9280_01       Celeon Hontichre        False  \n",
       "9280_02       Propsh Hontichre         True  \n",
       "\n",
       "[8693 rows x 13 columns]"
      ]
     },
     "execution_count": 3,
     "metadata": {},
     "output_type": "execute_result"
    }
   ],
   "source": [
    "df_train"
   ]
  },
  {
   "cell_type": "code",
   "execution_count": 4,
   "id": "3a723137",
   "metadata": {
    "execution": {
     "iopub.execute_input": "2022-11-18T21:16:47.515175Z",
     "iopub.status.busy": "2022-11-18T21:16:47.513821Z",
     "iopub.status.idle": "2022-11-18T21:16:47.544179Z",
     "shell.execute_reply": "2022-11-18T21:16:47.542937Z"
    },
    "papermill": {
     "duration": 0.043805,
     "end_time": "2022-11-18T21:16:47.546525",
     "exception": false,
     "start_time": "2022-11-18T21:16:47.502720",
     "status": "completed"
    },
    "tags": []
   },
   "outputs": [
    {
     "data": {
      "text/html": [
       "<div>\n",
       "<style scoped>\n",
       "    .dataframe tbody tr th:only-of-type {\n",
       "        vertical-align: middle;\n",
       "    }\n",
       "\n",
       "    .dataframe tbody tr th {\n",
       "        vertical-align: top;\n",
       "    }\n",
       "\n",
       "    .dataframe thead th {\n",
       "        text-align: right;\n",
       "    }\n",
       "</style>\n",
       "<table border=\"1\" class=\"dataframe\">\n",
       "  <thead>\n",
       "    <tr style=\"text-align: right;\">\n",
       "      <th></th>\n",
       "      <th>HomePlanet</th>\n",
       "      <th>CryoSleep</th>\n",
       "      <th>Cabin</th>\n",
       "      <th>Destination</th>\n",
       "      <th>Age</th>\n",
       "      <th>VIP</th>\n",
       "      <th>RoomService</th>\n",
       "      <th>FoodCourt</th>\n",
       "      <th>ShoppingMall</th>\n",
       "      <th>Spa</th>\n",
       "      <th>VRDeck</th>\n",
       "      <th>Name</th>\n",
       "    </tr>\n",
       "    <tr>\n",
       "      <th>PassengerId</th>\n",
       "      <th></th>\n",
       "      <th></th>\n",
       "      <th></th>\n",
       "      <th></th>\n",
       "      <th></th>\n",
       "      <th></th>\n",
       "      <th></th>\n",
       "      <th></th>\n",
       "      <th></th>\n",
       "      <th></th>\n",
       "      <th></th>\n",
       "      <th></th>\n",
       "    </tr>\n",
       "  </thead>\n",
       "  <tbody>\n",
       "    <tr>\n",
       "      <th>0013_01</th>\n",
       "      <td>Earth</td>\n",
       "      <td>True</td>\n",
       "      <td>G/3/S</td>\n",
       "      <td>TRAPPIST-1e</td>\n",
       "      <td>27.0</td>\n",
       "      <td>False</td>\n",
       "      <td>0.0</td>\n",
       "      <td>0.0</td>\n",
       "      <td>0.0</td>\n",
       "      <td>0.0</td>\n",
       "      <td>0.0</td>\n",
       "      <td>Nelly Carsoning</td>\n",
       "    </tr>\n",
       "    <tr>\n",
       "      <th>0018_01</th>\n",
       "      <td>Earth</td>\n",
       "      <td>False</td>\n",
       "      <td>F/4/S</td>\n",
       "      <td>TRAPPIST-1e</td>\n",
       "      <td>19.0</td>\n",
       "      <td>False</td>\n",
       "      <td>0.0</td>\n",
       "      <td>9.0</td>\n",
       "      <td>0.0</td>\n",
       "      <td>2823.0</td>\n",
       "      <td>0.0</td>\n",
       "      <td>Lerome Peckers</td>\n",
       "    </tr>\n",
       "    <tr>\n",
       "      <th>0019_01</th>\n",
       "      <td>Europa</td>\n",
       "      <td>True</td>\n",
       "      <td>C/0/S</td>\n",
       "      <td>55 Cancri e</td>\n",
       "      <td>31.0</td>\n",
       "      <td>False</td>\n",
       "      <td>0.0</td>\n",
       "      <td>0.0</td>\n",
       "      <td>0.0</td>\n",
       "      <td>0.0</td>\n",
       "      <td>0.0</td>\n",
       "      <td>Sabih Unhearfus</td>\n",
       "    </tr>\n",
       "    <tr>\n",
       "      <th>0021_01</th>\n",
       "      <td>Europa</td>\n",
       "      <td>False</td>\n",
       "      <td>C/1/S</td>\n",
       "      <td>TRAPPIST-1e</td>\n",
       "      <td>38.0</td>\n",
       "      <td>False</td>\n",
       "      <td>0.0</td>\n",
       "      <td>6652.0</td>\n",
       "      <td>0.0</td>\n",
       "      <td>181.0</td>\n",
       "      <td>585.0</td>\n",
       "      <td>Meratz Caltilter</td>\n",
       "    </tr>\n",
       "    <tr>\n",
       "      <th>0023_01</th>\n",
       "      <td>Earth</td>\n",
       "      <td>False</td>\n",
       "      <td>F/5/S</td>\n",
       "      <td>TRAPPIST-1e</td>\n",
       "      <td>20.0</td>\n",
       "      <td>False</td>\n",
       "      <td>10.0</td>\n",
       "      <td>0.0</td>\n",
       "      <td>635.0</td>\n",
       "      <td>0.0</td>\n",
       "      <td>0.0</td>\n",
       "      <td>Brence Harperez</td>\n",
       "    </tr>\n",
       "    <tr>\n",
       "      <th>...</th>\n",
       "      <td>...</td>\n",
       "      <td>...</td>\n",
       "      <td>...</td>\n",
       "      <td>...</td>\n",
       "      <td>...</td>\n",
       "      <td>...</td>\n",
       "      <td>...</td>\n",
       "      <td>...</td>\n",
       "      <td>...</td>\n",
       "      <td>...</td>\n",
       "      <td>...</td>\n",
       "      <td>...</td>\n",
       "    </tr>\n",
       "    <tr>\n",
       "      <th>9266_02</th>\n",
       "      <td>Earth</td>\n",
       "      <td>True</td>\n",
       "      <td>G/1496/S</td>\n",
       "      <td>TRAPPIST-1e</td>\n",
       "      <td>34.0</td>\n",
       "      <td>False</td>\n",
       "      <td>0.0</td>\n",
       "      <td>0.0</td>\n",
       "      <td>0.0</td>\n",
       "      <td>0.0</td>\n",
       "      <td>0.0</td>\n",
       "      <td>Jeron Peter</td>\n",
       "    </tr>\n",
       "    <tr>\n",
       "      <th>9269_01</th>\n",
       "      <td>Earth</td>\n",
       "      <td>False</td>\n",
       "      <td>NaN</td>\n",
       "      <td>TRAPPIST-1e</td>\n",
       "      <td>42.0</td>\n",
       "      <td>False</td>\n",
       "      <td>0.0</td>\n",
       "      <td>847.0</td>\n",
       "      <td>17.0</td>\n",
       "      <td>10.0</td>\n",
       "      <td>144.0</td>\n",
       "      <td>Matty Scheron</td>\n",
       "    </tr>\n",
       "    <tr>\n",
       "      <th>9271_01</th>\n",
       "      <td>Mars</td>\n",
       "      <td>True</td>\n",
       "      <td>D/296/P</td>\n",
       "      <td>55 Cancri e</td>\n",
       "      <td>NaN</td>\n",
       "      <td>False</td>\n",
       "      <td>0.0</td>\n",
       "      <td>0.0</td>\n",
       "      <td>0.0</td>\n",
       "      <td>0.0</td>\n",
       "      <td>0.0</td>\n",
       "      <td>Jayrin Pore</td>\n",
       "    </tr>\n",
       "    <tr>\n",
       "      <th>9273_01</th>\n",
       "      <td>Europa</td>\n",
       "      <td>False</td>\n",
       "      <td>D/297/P</td>\n",
       "      <td>NaN</td>\n",
       "      <td>NaN</td>\n",
       "      <td>False</td>\n",
       "      <td>0.0</td>\n",
       "      <td>2680.0</td>\n",
       "      <td>0.0</td>\n",
       "      <td>0.0</td>\n",
       "      <td>523.0</td>\n",
       "      <td>Kitakan Conale</td>\n",
       "    </tr>\n",
       "    <tr>\n",
       "      <th>9277_01</th>\n",
       "      <td>Earth</td>\n",
       "      <td>True</td>\n",
       "      <td>G/1498/S</td>\n",
       "      <td>PSO J318.5-22</td>\n",
       "      <td>43.0</td>\n",
       "      <td>False</td>\n",
       "      <td>0.0</td>\n",
       "      <td>0.0</td>\n",
       "      <td>0.0</td>\n",
       "      <td>0.0</td>\n",
       "      <td>0.0</td>\n",
       "      <td>Lilace Leonzaley</td>\n",
       "    </tr>\n",
       "  </tbody>\n",
       "</table>\n",
       "<p>4277 rows × 12 columns</p>\n",
       "</div>"
      ],
      "text/plain": [
       "            HomePlanet CryoSleep     Cabin    Destination   Age    VIP  \\\n",
       "PassengerId                                                              \n",
       "0013_01          Earth      True     G/3/S    TRAPPIST-1e  27.0  False   \n",
       "0018_01          Earth     False     F/4/S    TRAPPIST-1e  19.0  False   \n",
       "0019_01         Europa      True     C/0/S    55 Cancri e  31.0  False   \n",
       "0021_01         Europa     False     C/1/S    TRAPPIST-1e  38.0  False   \n",
       "0023_01          Earth     False     F/5/S    TRAPPIST-1e  20.0  False   \n",
       "...                ...       ...       ...            ...   ...    ...   \n",
       "9266_02          Earth      True  G/1496/S    TRAPPIST-1e  34.0  False   \n",
       "9269_01          Earth     False       NaN    TRAPPIST-1e  42.0  False   \n",
       "9271_01           Mars      True   D/296/P    55 Cancri e   NaN  False   \n",
       "9273_01         Europa     False   D/297/P            NaN   NaN  False   \n",
       "9277_01          Earth      True  G/1498/S  PSO J318.5-22  43.0  False   \n",
       "\n",
       "             RoomService  FoodCourt  ShoppingMall     Spa  VRDeck  \\\n",
       "PassengerId                                                         \n",
       "0013_01              0.0        0.0           0.0     0.0     0.0   \n",
       "0018_01              0.0        9.0           0.0  2823.0     0.0   \n",
       "0019_01              0.0        0.0           0.0     0.0     0.0   \n",
       "0021_01              0.0     6652.0           0.0   181.0   585.0   \n",
       "0023_01             10.0        0.0         635.0     0.0     0.0   \n",
       "...                  ...        ...           ...     ...     ...   \n",
       "9266_02              0.0        0.0           0.0     0.0     0.0   \n",
       "9269_01              0.0      847.0          17.0    10.0   144.0   \n",
       "9271_01              0.0        0.0           0.0     0.0     0.0   \n",
       "9273_01              0.0     2680.0           0.0     0.0   523.0   \n",
       "9277_01              0.0        0.0           0.0     0.0     0.0   \n",
       "\n",
       "                         Name  \n",
       "PassengerId                    \n",
       "0013_01       Nelly Carsoning  \n",
       "0018_01        Lerome Peckers  \n",
       "0019_01       Sabih Unhearfus  \n",
       "0021_01      Meratz Caltilter  \n",
       "0023_01       Brence Harperez  \n",
       "...                       ...  \n",
       "9266_02           Jeron Peter  \n",
       "9269_01         Matty Scheron  \n",
       "9271_01           Jayrin Pore  \n",
       "9273_01        Kitakan Conale  \n",
       "9277_01      Lilace Leonzaley  \n",
       "\n",
       "[4277 rows x 12 columns]"
      ]
     },
     "execution_count": 4,
     "metadata": {},
     "output_type": "execute_result"
    }
   ],
   "source": [
    "df_test"
   ]
  },
  {
   "cell_type": "code",
   "execution_count": 5,
   "id": "53e8e4b6",
   "metadata": {
    "execution": {
     "iopub.execute_input": "2022-11-18T21:16:47.570587Z",
     "iopub.status.busy": "2022-11-18T21:16:47.570195Z",
     "iopub.status.idle": "2022-11-18T21:16:47.575837Z",
     "shell.execute_reply": "2022-11-18T21:16:47.574621Z"
    },
    "papermill": {
     "duration": 0.019556,
     "end_time": "2022-11-18T21:16:47.578338",
     "exception": false,
     "start_time": "2022-11-18T21:16:47.558782",
     "status": "completed"
    },
    "tags": []
   },
   "outputs": [
    {
     "name": "stdout",
     "output_type": "stream",
     "text": [
      "train length: (8693, 13)\n",
      "test length: (4277, 12)\n"
     ]
    }
   ],
   "source": [
    "print(f'train length: {df_train.shape}')\n",
    "print(f'test length: {df_test.shape}')"
   ]
  },
  {
   "cell_type": "code",
   "execution_count": 6,
   "id": "be59a860",
   "metadata": {
    "execution": {
     "iopub.execute_input": "2022-11-18T21:16:47.600379Z",
     "iopub.status.busy": "2022-11-18T21:16:47.599930Z",
     "iopub.status.idle": "2022-11-18T21:16:47.637257Z",
     "shell.execute_reply": "2022-11-18T21:16:47.636337Z"
    },
    "papermill": {
     "duration": 0.051782,
     "end_time": "2022-11-18T21:16:47.640274",
     "exception": false,
     "start_time": "2022-11-18T21:16:47.588492",
     "status": "completed"
    },
    "tags": []
   },
   "outputs": [
    {
     "data": {
      "text/html": [
       "<div>\n",
       "<style scoped>\n",
       "    .dataframe tbody tr th:only-of-type {\n",
       "        vertical-align: middle;\n",
       "    }\n",
       "\n",
       "    .dataframe tbody tr th {\n",
       "        vertical-align: top;\n",
       "    }\n",
       "\n",
       "    .dataframe thead th {\n",
       "        text-align: right;\n",
       "    }\n",
       "</style>\n",
       "<table border=\"1\" class=\"dataframe\">\n",
       "  <thead>\n",
       "    <tr style=\"text-align: right;\">\n",
       "      <th></th>\n",
       "      <th>Age</th>\n",
       "      <th>RoomService</th>\n",
       "      <th>FoodCourt</th>\n",
       "      <th>ShoppingMall</th>\n",
       "      <th>Spa</th>\n",
       "      <th>VRDeck</th>\n",
       "    </tr>\n",
       "  </thead>\n",
       "  <tbody>\n",
       "    <tr>\n",
       "      <th>count</th>\n",
       "      <td>8514.000000</td>\n",
       "      <td>8512.000000</td>\n",
       "      <td>8510.000000</td>\n",
       "      <td>8485.000000</td>\n",
       "      <td>8510.000000</td>\n",
       "      <td>8505.000000</td>\n",
       "    </tr>\n",
       "    <tr>\n",
       "      <th>mean</th>\n",
       "      <td>28.827930</td>\n",
       "      <td>224.687617</td>\n",
       "      <td>458.077203</td>\n",
       "      <td>173.729169</td>\n",
       "      <td>311.138778</td>\n",
       "      <td>304.854791</td>\n",
       "    </tr>\n",
       "    <tr>\n",
       "      <th>std</th>\n",
       "      <td>14.489021</td>\n",
       "      <td>666.717663</td>\n",
       "      <td>1611.489240</td>\n",
       "      <td>604.696458</td>\n",
       "      <td>1136.705535</td>\n",
       "      <td>1145.717189</td>\n",
       "    </tr>\n",
       "    <tr>\n",
       "      <th>min</th>\n",
       "      <td>0.000000</td>\n",
       "      <td>0.000000</td>\n",
       "      <td>0.000000</td>\n",
       "      <td>0.000000</td>\n",
       "      <td>0.000000</td>\n",
       "      <td>0.000000</td>\n",
       "    </tr>\n",
       "    <tr>\n",
       "      <th>25%</th>\n",
       "      <td>19.000000</td>\n",
       "      <td>0.000000</td>\n",
       "      <td>0.000000</td>\n",
       "      <td>0.000000</td>\n",
       "      <td>0.000000</td>\n",
       "      <td>0.000000</td>\n",
       "    </tr>\n",
       "    <tr>\n",
       "      <th>50%</th>\n",
       "      <td>27.000000</td>\n",
       "      <td>0.000000</td>\n",
       "      <td>0.000000</td>\n",
       "      <td>0.000000</td>\n",
       "      <td>0.000000</td>\n",
       "      <td>0.000000</td>\n",
       "    </tr>\n",
       "    <tr>\n",
       "      <th>75%</th>\n",
       "      <td>38.000000</td>\n",
       "      <td>47.000000</td>\n",
       "      <td>76.000000</td>\n",
       "      <td>27.000000</td>\n",
       "      <td>59.000000</td>\n",
       "      <td>46.000000</td>\n",
       "    </tr>\n",
       "    <tr>\n",
       "      <th>max</th>\n",
       "      <td>79.000000</td>\n",
       "      <td>14327.000000</td>\n",
       "      <td>29813.000000</td>\n",
       "      <td>23492.000000</td>\n",
       "      <td>22408.000000</td>\n",
       "      <td>24133.000000</td>\n",
       "    </tr>\n",
       "  </tbody>\n",
       "</table>\n",
       "</div>"
      ],
      "text/plain": [
       "               Age   RoomService     FoodCourt  ShoppingMall           Spa  \\\n",
       "count  8514.000000   8512.000000   8510.000000   8485.000000   8510.000000   \n",
       "mean     28.827930    224.687617    458.077203    173.729169    311.138778   \n",
       "std      14.489021    666.717663   1611.489240    604.696458   1136.705535   \n",
       "min       0.000000      0.000000      0.000000      0.000000      0.000000   \n",
       "25%      19.000000      0.000000      0.000000      0.000000      0.000000   \n",
       "50%      27.000000      0.000000      0.000000      0.000000      0.000000   \n",
       "75%      38.000000     47.000000     76.000000     27.000000     59.000000   \n",
       "max      79.000000  14327.000000  29813.000000  23492.000000  22408.000000   \n",
       "\n",
       "             VRDeck  \n",
       "count   8505.000000  \n",
       "mean     304.854791  \n",
       "std     1145.717189  \n",
       "min        0.000000  \n",
       "25%        0.000000  \n",
       "50%        0.000000  \n",
       "75%       46.000000  \n",
       "max    24133.000000  "
      ]
     },
     "execution_count": 6,
     "metadata": {},
     "output_type": "execute_result"
    }
   ],
   "source": [
    "df_train.describe()"
   ]
  },
  {
   "cell_type": "code",
   "execution_count": 7,
   "id": "c4ed6ee9",
   "metadata": {
    "execution": {
     "iopub.execute_input": "2022-11-18T21:16:47.664521Z",
     "iopub.status.busy": "2022-11-18T21:16:47.664081Z",
     "iopub.status.idle": "2022-11-18T21:16:47.671025Z",
     "shell.execute_reply": "2022-11-18T21:16:47.670020Z"
    },
    "papermill": {
     "duration": 0.021099,
     "end_time": "2022-11-18T21:16:47.673459",
     "exception": false,
     "start_time": "2022-11-18T21:16:47.652360",
     "status": "completed"
    },
    "tags": []
   },
   "outputs": [
    {
     "data": {
      "text/plain": [
       "['HomePlanet',\n",
       " 'CryoSleep',\n",
       " 'Cabin',\n",
       " 'Destination',\n",
       " 'Age',\n",
       " 'VIP',\n",
       " 'RoomService',\n",
       " 'FoodCourt',\n",
       " 'ShoppingMall',\n",
       " 'Spa',\n",
       " 'VRDeck',\n",
       " 'Name',\n",
       " 'Transported']"
      ]
     },
     "execution_count": 7,
     "metadata": {},
     "output_type": "execute_result"
    }
   ],
   "source": [
    "df_train.columns.tolist()"
   ]
  },
  {
   "cell_type": "code",
   "execution_count": 8,
   "id": "5cad2f6c",
   "metadata": {
    "execution": {
     "iopub.execute_input": "2022-11-18T21:16:47.695991Z",
     "iopub.status.busy": "2022-11-18T21:16:47.695549Z",
     "iopub.status.idle": "2022-11-18T21:16:47.727687Z",
     "shell.execute_reply": "2022-11-18T21:16:47.726249Z"
    },
    "papermill": {
     "duration": 0.046343,
     "end_time": "2022-11-18T21:16:47.730156",
     "exception": false,
     "start_time": "2022-11-18T21:16:47.683813",
     "status": "completed"
    },
    "tags": []
   },
   "outputs": [
    {
     "data": {
      "text/html": [
       "<div>\n",
       "<style scoped>\n",
       "    .dataframe tbody tr th:only-of-type {\n",
       "        vertical-align: middle;\n",
       "    }\n",
       "\n",
       "    .dataframe tbody tr th {\n",
       "        vertical-align: top;\n",
       "    }\n",
       "\n",
       "    .dataframe thead th {\n",
       "        text-align: right;\n",
       "    }\n",
       "</style>\n",
       "<table border=\"1\" class=\"dataframe\">\n",
       "  <thead>\n",
       "    <tr style=\"text-align: right;\">\n",
       "      <th></th>\n",
       "      <th>Age</th>\n",
       "      <th>RoomService</th>\n",
       "      <th>FoodCourt</th>\n",
       "      <th>ShoppingMall</th>\n",
       "      <th>Spa</th>\n",
       "      <th>VRDeck</th>\n",
       "    </tr>\n",
       "  </thead>\n",
       "  <tbody>\n",
       "    <tr>\n",
       "      <th>count</th>\n",
       "      <td>4186.000000</td>\n",
       "      <td>4195.000000</td>\n",
       "      <td>4171.000000</td>\n",
       "      <td>4179.000000</td>\n",
       "      <td>4176.000000</td>\n",
       "      <td>4197.000000</td>\n",
       "    </tr>\n",
       "    <tr>\n",
       "      <th>mean</th>\n",
       "      <td>28.658146</td>\n",
       "      <td>219.266269</td>\n",
       "      <td>439.484296</td>\n",
       "      <td>177.295525</td>\n",
       "      <td>303.052443</td>\n",
       "      <td>310.710031</td>\n",
       "    </tr>\n",
       "    <tr>\n",
       "      <th>std</th>\n",
       "      <td>14.179072</td>\n",
       "      <td>607.011289</td>\n",
       "      <td>1527.663045</td>\n",
       "      <td>560.821123</td>\n",
       "      <td>1117.186015</td>\n",
       "      <td>1246.994742</td>\n",
       "    </tr>\n",
       "    <tr>\n",
       "      <th>min</th>\n",
       "      <td>0.000000</td>\n",
       "      <td>0.000000</td>\n",
       "      <td>0.000000</td>\n",
       "      <td>0.000000</td>\n",
       "      <td>0.000000</td>\n",
       "      <td>0.000000</td>\n",
       "    </tr>\n",
       "    <tr>\n",
       "      <th>25%</th>\n",
       "      <td>19.000000</td>\n",
       "      <td>0.000000</td>\n",
       "      <td>0.000000</td>\n",
       "      <td>0.000000</td>\n",
       "      <td>0.000000</td>\n",
       "      <td>0.000000</td>\n",
       "    </tr>\n",
       "    <tr>\n",
       "      <th>50%</th>\n",
       "      <td>26.000000</td>\n",
       "      <td>0.000000</td>\n",
       "      <td>0.000000</td>\n",
       "      <td>0.000000</td>\n",
       "      <td>0.000000</td>\n",
       "      <td>0.000000</td>\n",
       "    </tr>\n",
       "    <tr>\n",
       "      <th>75%</th>\n",
       "      <td>37.000000</td>\n",
       "      <td>53.000000</td>\n",
       "      <td>78.000000</td>\n",
       "      <td>33.000000</td>\n",
       "      <td>50.000000</td>\n",
       "      <td>36.000000</td>\n",
       "    </tr>\n",
       "    <tr>\n",
       "      <th>max</th>\n",
       "      <td>79.000000</td>\n",
       "      <td>11567.000000</td>\n",
       "      <td>25273.000000</td>\n",
       "      <td>8292.000000</td>\n",
       "      <td>19844.000000</td>\n",
       "      <td>22272.000000</td>\n",
       "    </tr>\n",
       "  </tbody>\n",
       "</table>\n",
       "</div>"
      ],
      "text/plain": [
       "               Age   RoomService     FoodCourt  ShoppingMall           Spa  \\\n",
       "count  4186.000000   4195.000000   4171.000000   4179.000000   4176.000000   \n",
       "mean     28.658146    219.266269    439.484296    177.295525    303.052443   \n",
       "std      14.179072    607.011289   1527.663045    560.821123   1117.186015   \n",
       "min       0.000000      0.000000      0.000000      0.000000      0.000000   \n",
       "25%      19.000000      0.000000      0.000000      0.000000      0.000000   \n",
       "50%      26.000000      0.000000      0.000000      0.000000      0.000000   \n",
       "75%      37.000000     53.000000     78.000000     33.000000     50.000000   \n",
       "max      79.000000  11567.000000  25273.000000   8292.000000  19844.000000   \n",
       "\n",
       "             VRDeck  \n",
       "count   4197.000000  \n",
       "mean     310.710031  \n",
       "std     1246.994742  \n",
       "min        0.000000  \n",
       "25%        0.000000  \n",
       "50%        0.000000  \n",
       "75%       36.000000  \n",
       "max    22272.000000  "
      ]
     },
     "execution_count": 8,
     "metadata": {},
     "output_type": "execute_result"
    }
   ],
   "source": [
    "df_test.describe()"
   ]
  },
  {
   "cell_type": "code",
   "execution_count": 9,
   "id": "f802996e",
   "metadata": {
    "execution": {
     "iopub.execute_input": "2022-11-18T21:16:47.756040Z",
     "iopub.status.busy": "2022-11-18T21:16:47.755591Z",
     "iopub.status.idle": "2022-11-18T21:16:47.765078Z",
     "shell.execute_reply": "2022-11-18T21:16:47.763435Z"
    },
    "papermill": {
     "duration": 0.026192,
     "end_time": "2022-11-18T21:16:47.768299",
     "exception": false,
     "start_time": "2022-11-18T21:16:47.742107",
     "status": "completed"
    },
    "tags": []
   },
   "outputs": [
    {
     "data": {
      "text/plain": [
       "['HomePlanet',\n",
       " 'CryoSleep',\n",
       " 'Cabin',\n",
       " 'Destination',\n",
       " 'Age',\n",
       " 'VIP',\n",
       " 'RoomService',\n",
       " 'FoodCourt',\n",
       " 'ShoppingMall',\n",
       " 'Spa',\n",
       " 'VRDeck',\n",
       " 'Name']"
      ]
     },
     "execution_count": 9,
     "metadata": {},
     "output_type": "execute_result"
    }
   ],
   "source": [
    "df_test.columns.tolist()"
   ]
  },
  {
   "cell_type": "code",
   "execution_count": 10,
   "id": "6c6149ca",
   "metadata": {
    "execution": {
     "iopub.execute_input": "2022-11-18T21:16:47.798052Z",
     "iopub.status.busy": "2022-11-18T21:16:47.797491Z",
     "iopub.status.idle": "2022-11-18T21:16:47.816053Z",
     "shell.execute_reply": "2022-11-18T21:16:47.814489Z"
    },
    "papermill": {
     "duration": 0.036258,
     "end_time": "2022-11-18T21:16:47.818601",
     "exception": false,
     "start_time": "2022-11-18T21:16:47.782343",
     "status": "completed"
    },
    "tags": []
   },
   "outputs": [
    {
     "name": "stdout",
     "output_type": "stream",
     "text": [
      "HomePlanet      201\n",
      "CryoSleep       217\n",
      "Cabin           199\n",
      "Destination     182\n",
      "Age             179\n",
      "VIP             203\n",
      "RoomService     181\n",
      "FoodCourt       183\n",
      "ShoppingMall    208\n",
      "Spa             183\n",
      "VRDeck          188\n",
      "Name            200\n",
      "Transported       0\n",
      "dtype: int64\n",
      "\n",
      "HomePlanet       87\n",
      "CryoSleep        93\n",
      "Cabin           100\n",
      "Destination      92\n",
      "Age              91\n",
      "VIP              93\n",
      "RoomService      82\n",
      "FoodCourt       106\n",
      "ShoppingMall     98\n",
      "Spa             101\n",
      "VRDeck           80\n",
      "Name             94\n",
      "dtype: int64\n"
     ]
    }
   ],
   "source": [
    "# printing NaN data count\n",
    "print(df_train.isna().sum())\n",
    "print()\n",
    "print(df_test.isna().sum())"
   ]
  },
  {
   "cell_type": "code",
   "execution_count": 11,
   "id": "831cd91e",
   "metadata": {
    "execution": {
     "iopub.execute_input": "2022-11-18T21:16:47.843377Z",
     "iopub.status.busy": "2022-11-18T21:16:47.842904Z",
     "iopub.status.idle": "2022-11-18T21:16:48.871870Z",
     "shell.execute_reply": "2022-11-18T21:16:48.870467Z"
    },
    "papermill": {
     "duration": 1.044545,
     "end_time": "2022-11-18T21:16:48.874818",
     "exception": false,
     "start_time": "2022-11-18T21:16:47.830273",
     "status": "completed"
    },
    "tags": []
   },
   "outputs": [],
   "source": [
    "# another imports\n",
    "import matplotlib.pyplot as plt\n",
    "import numpy as np\n",
    "import seaborn as sns\n",
    "from scipy.stats import norm\n",
    "from scipy import stats"
   ]
  },
  {
   "cell_type": "code",
   "execution_count": 12,
   "id": "7a935584",
   "metadata": {
    "execution": {
     "iopub.execute_input": "2022-11-18T21:16:48.900027Z",
     "iopub.status.busy": "2022-11-18T21:16:48.899573Z",
     "iopub.status.idle": "2022-11-18T21:16:49.264115Z",
     "shell.execute_reply": "2022-11-18T21:16:49.262756Z"
    },
    "papermill": {
     "duration": 0.379178,
     "end_time": "2022-11-18T21:16:49.266815",
     "exception": false,
     "start_time": "2022-11-18T21:16:48.887637",
     "status": "completed"
    },
    "tags": []
   },
   "outputs": [
    {
     "data": {
      "image/png": "[encoded data removed]",
      "text/plain": [
       "<Figure size 432x432 with 2 Axes>"
      ]
     },
     "metadata": {
      "needs_background": "light"
     },
     "output_type": "display_data"
    }
   ],
   "source": [
    "# seeing correlation between the attributes\n",
    "corr_ = df_train.corr()\n",
    "matrix = np.triu(corr_)\n",
    "fig, ax = plt.subplots(figsize=(6,6)) \n",
    "sns.heatmap(corr_, annot=True, ax=ax, cmap='BuPu', mask=matrix)\n",
    "plt.show()"
   ]
  },
  {
   "cell_type": "markdown",
   "id": "aacd01eb",
   "metadata": {
    "papermill": {
     "duration": 0.010919,
     "end_time": "2022-11-18T21:16:49.289427",
     "exception": false,
     "start_time": "2022-11-18T21:16:49.278508",
     "status": "completed"
    },
    "tags": []
   },
   "source": [
    "### Selecting columns"
   ]
  },
  {
   "cell_type": "code",
   "execution_count": 13,
   "id": "f5a43b88",
   "metadata": {
    "execution": {
     "iopub.execute_input": "2022-11-18T21:16:49.313495Z",
     "iopub.status.busy": "2022-11-18T21:16:49.313076Z",
     "iopub.status.idle": "2022-11-18T21:16:49.330442Z",
     "shell.execute_reply": "2022-11-18T21:16:49.329200Z"
    },
    "papermill": {
     "duration": 0.032157,
     "end_time": "2022-11-18T21:16:49.332764",
     "exception": false,
     "start_time": "2022-11-18T21:16:49.300607",
     "status": "completed"
    },
    "tags": []
   },
   "outputs": [
    {
     "data": {
      "text/html": [
       "<div>\n",
       "<style scoped>\n",
       "    .dataframe tbody tr th:only-of-type {\n",
       "        vertical-align: middle;\n",
       "    }\n",
       "\n",
       "    .dataframe tbody tr th {\n",
       "        vertical-align: top;\n",
       "    }\n",
       "\n",
       "    .dataframe thead th {\n",
       "        text-align: right;\n",
       "    }\n",
       "</style>\n",
       "<table border=\"1\" class=\"dataframe\">\n",
       "  <thead>\n",
       "    <tr style=\"text-align: right;\">\n",
       "      <th></th>\n",
       "      <th>HomePlanet</th>\n",
       "      <th>Destination</th>\n",
       "      <th>Age</th>\n",
       "      <th>VIP</th>\n",
       "      <th>RoomService</th>\n",
       "      <th>Transported</th>\n",
       "    </tr>\n",
       "    <tr>\n",
       "      <th>PassengerId</th>\n",
       "      <th></th>\n",
       "      <th></th>\n",
       "      <th></th>\n",
       "      <th></th>\n",
       "      <th></th>\n",
       "      <th></th>\n",
       "    </tr>\n",
       "  </thead>\n",
       "  <tbody>\n",
       "    <tr>\n",
       "      <th>0001_01</th>\n",
       "      <td>Europa</td>\n",
       "      <td>TRAPPIST-1e</td>\n",
       "      <td>39.0</td>\n",
       "      <td>False</td>\n",
       "      <td>0.0</td>\n",
       "      <td>False</td>\n",
       "    </tr>\n",
       "    <tr>\n",
       "      <th>0002_01</th>\n",
       "      <td>Earth</td>\n",
       "      <td>TRAPPIST-1e</td>\n",
       "      <td>24.0</td>\n",
       "      <td>False</td>\n",
       "      <td>109.0</td>\n",
       "      <td>True</td>\n",
       "    </tr>\n",
       "    <tr>\n",
       "      <th>0003_01</th>\n",
       "      <td>Europa</td>\n",
       "      <td>TRAPPIST-1e</td>\n",
       "      <td>58.0</td>\n",
       "      <td>True</td>\n",
       "      <td>43.0</td>\n",
       "      <td>False</td>\n",
       "    </tr>\n",
       "    <tr>\n",
       "      <th>0003_02</th>\n",
       "      <td>Europa</td>\n",
       "      <td>TRAPPIST-1e</td>\n",
       "      <td>33.0</td>\n",
       "      <td>False</td>\n",
       "      <td>0.0</td>\n",
       "      <td>False</td>\n",
       "    </tr>\n",
       "    <tr>\n",
       "      <th>0004_01</th>\n",
       "      <td>Earth</td>\n",
       "      <td>TRAPPIST-1e</td>\n",
       "      <td>16.0</td>\n",
       "      <td>False</td>\n",
       "      <td>303.0</td>\n",
       "      <td>True</td>\n",
       "    </tr>\n",
       "  </tbody>\n",
       "</table>\n",
       "</div>"
      ],
      "text/plain": [
       "            HomePlanet  Destination   Age    VIP  RoomService  Transported\n",
       "PassengerId                                                               \n",
       "0001_01         Europa  TRAPPIST-1e  39.0  False          0.0        False\n",
       "0002_01          Earth  TRAPPIST-1e  24.0  False        109.0         True\n",
       "0003_01         Europa  TRAPPIST-1e  58.0   True         43.0        False\n",
       "0003_02         Europa  TRAPPIST-1e  33.0  False          0.0        False\n",
       "0004_01          Earth  TRAPPIST-1e  16.0  False        303.0         True"
      ]
     },
     "execution_count": 13,
     "metadata": {},
     "output_type": "execute_result"
    }
   ],
   "source": [
    "columns = ['HomePlanet', 'Destination', 'Age', 'VIP', 'RoomService', 'Transported']\n",
    "\n",
    "data = df_train[columns]\n",
    "\n",
    "data.head()"
   ]
  },
  {
   "cell_type": "code",
   "execution_count": 14,
   "id": "3fcbaaaa",
   "metadata": {
    "execution": {
     "iopub.execute_input": "2022-11-18T21:16:49.358435Z",
     "iopub.status.busy": "2022-11-18T21:16:49.357756Z",
     "iopub.status.idle": "2022-11-18T21:16:49.375243Z",
     "shell.execute_reply": "2022-11-18T21:16:49.373560Z"
    },
    "papermill": {
     "duration": 0.033978,
     "end_time": "2022-11-18T21:16:49.378432",
     "exception": false,
     "start_time": "2022-11-18T21:16:49.344454",
     "status": "completed"
    },
    "tags": []
   },
   "outputs": [
    {
     "name": "stdout",
     "output_type": "stream",
     "text": [
      "<class 'pandas.core.frame.DataFrame'>\n",
      "Index: 8693 entries, 0001_01 to 9280_02\n",
      "Data columns (total 6 columns):\n",
      " #   Column       Non-Null Count  Dtype  \n",
      "---  ------       --------------  -----  \n",
      " 0   HomePlanet   8492 non-null   object \n",
      " 1   Destination  8511 non-null   object \n",
      " 2   Age          8514 non-null   float64\n",
      " 3   VIP          8490 non-null   object \n",
      " 4   RoomService  8512 non-null   float64\n",
      " 5   Transported  8693 non-null   bool   \n",
      "dtypes: bool(1), float64(2), object(3)\n",
      "memory usage: 416.0+ KB\n"
     ]
    }
   ],
   "source": [
    "data.info()"
   ]
  },
  {
   "cell_type": "code",
   "execution_count": 15,
   "id": "d1b93faf",
   "metadata": {
    "execution": {
     "iopub.execute_input": "2022-11-18T21:16:49.403960Z",
     "iopub.status.busy": "2022-11-18T21:16:49.403558Z",
     "iopub.status.idle": "2022-11-18T21:16:49.412433Z",
     "shell.execute_reply": "2022-11-18T21:16:49.411067Z"
    },
    "papermill": {
     "duration": 0.024977,
     "end_time": "2022-11-18T21:16:49.415470",
     "exception": false,
     "start_time": "2022-11-18T21:16:49.390493",
     "status": "completed"
    },
    "tags": []
   },
   "outputs": [
    {
     "name": "stdout",
     "output_type": "stream",
     "text": [
      "HomePlanet     201\n",
      "Destination    182\n",
      "Age            179\n",
      "VIP            203\n",
      "RoomService    181\n",
      "Transported      0\n",
      "dtype: int64\n"
     ]
    }
   ],
   "source": [
    "print(data.isna().sum())"
   ]
  },
  {
   "cell_type": "code",
   "execution_count": 16,
   "id": "e60b94a9",
   "metadata": {
    "execution": {
     "iopub.execute_input": "2022-11-18T21:16:49.442073Z",
     "iopub.status.busy": "2022-11-18T21:16:49.440955Z",
     "iopub.status.idle": "2022-11-18T21:16:49.453487Z",
     "shell.execute_reply": "2022-11-18T21:16:49.452131Z"
    },
    "papermill": {
     "duration": 0.028843,
     "end_time": "2022-11-18T21:16:49.456769",
     "exception": false,
     "start_time": "2022-11-18T21:16:49.427926",
     "status": "completed"
    },
    "tags": []
   },
   "outputs": [
    {
     "name": "stdout",
     "output_type": "stream",
     "text": [
      "HomePlanet: 4 unique values\n",
      "Destination: 4 unique values\n",
      "Age: 81 unique values\n",
      "VIP: 3 unique values\n",
      "RoomService: 1274 unique values\n",
      "Transported: 2 unique values\n"
     ]
    }
   ],
   "source": [
    "# seeing unique values in each column\n",
    "for col in columns:\n",
    "    print(f'{col}: {len(data[col].unique())} unique values')"
   ]
  },
  {
   "cell_type": "code",
   "execution_count": 17,
   "id": "324b3ebe",
   "metadata": {
    "execution": {
     "iopub.execute_input": "2022-11-18T21:16:49.482677Z",
     "iopub.status.busy": "2022-11-18T21:16:49.482271Z",
     "iopub.status.idle": "2022-11-18T21:16:49.489720Z",
     "shell.execute_reply": "2022-11-18T21:16:49.488674Z"
    },
    "papermill": {
     "duration": 0.023081,
     "end_time": "2022-11-18T21:16:49.491989",
     "exception": false,
     "start_time": "2022-11-18T21:16:49.468908",
     "status": "completed"
    },
    "tags": []
   },
   "outputs": [],
   "source": [
    "def grouping_categories(df, col, labels, division=3):\n",
    "    min_value = df[col].min()\n",
    "    max_value = df[col].max()\n",
    "    step = np.round(max_value/division)\n",
    "    intervals = np.arange( np.round(max_value), min_value, (-step), dtype=int)\n",
    "    \n",
    "    for i in range(len(labels)):\n",
    "        df.loc[(df[col] < intervals[i]), f'{col}_Group'] = labels[i]"
   ]
  },
  {
   "cell_type": "code",
   "execution_count": 18,
   "id": "2cfab838",
   "metadata": {
    "execution": {
     "iopub.execute_input": "2022-11-18T21:16:49.517486Z",
     "iopub.status.busy": "2022-11-18T21:16:49.516956Z",
     "iopub.status.idle": "2022-11-18T21:16:49.545509Z",
     "shell.execute_reply": "2022-11-18T21:16:49.544301Z"
    },
    "papermill": {
     "duration": 0.044102,
     "end_time": "2022-11-18T21:16:49.547867",
     "exception": false,
     "start_time": "2022-11-18T21:16:49.503765",
     "status": "completed"
    },
    "tags": []
   },
   "outputs": [
    {
     "data": {
      "text/html": [
       "<div>\n",
       "<style scoped>\n",
       "    .dataframe tbody tr th:only-of-type {\n",
       "        vertical-align: middle;\n",
       "    }\n",
       "\n",
       "    .dataframe tbody tr th {\n",
       "        vertical-align: top;\n",
       "    }\n",
       "\n",
       "    .dataframe thead th {\n",
       "        text-align: right;\n",
       "    }\n",
       "</style>\n",
       "<table border=\"1\" class=\"dataframe\">\n",
       "  <thead>\n",
       "    <tr style=\"text-align: right;\">\n",
       "      <th></th>\n",
       "      <th>HomePlanet</th>\n",
       "      <th>Destination</th>\n",
       "      <th>Age</th>\n",
       "      <th>VIP</th>\n",
       "      <th>RoomService</th>\n",
       "      <th>Transported</th>\n",
       "      <th>Age_Group</th>\n",
       "      <th>RoomService_Group</th>\n",
       "    </tr>\n",
       "    <tr>\n",
       "      <th>PassengerId</th>\n",
       "      <th></th>\n",
       "      <th></th>\n",
       "      <th></th>\n",
       "      <th></th>\n",
       "      <th></th>\n",
       "      <th></th>\n",
       "      <th></th>\n",
       "      <th></th>\n",
       "    </tr>\n",
       "  </thead>\n",
       "  <tbody>\n",
       "    <tr>\n",
       "      <th>0001_01</th>\n",
       "      <td>Europa</td>\n",
       "      <td>TRAPPIST-1e</td>\n",
       "      <td>39.0</td>\n",
       "      <td>False</td>\n",
       "      <td>0.0</td>\n",
       "      <td>False</td>\n",
       "      <td>Adult</td>\n",
       "      <td>IV</td>\n",
       "    </tr>\n",
       "    <tr>\n",
       "      <th>0002_01</th>\n",
       "      <td>Earth</td>\n",
       "      <td>TRAPPIST-1e</td>\n",
       "      <td>24.0</td>\n",
       "      <td>False</td>\n",
       "      <td>109.0</td>\n",
       "      <td>True</td>\n",
       "      <td>Young</td>\n",
       "      <td>IV</td>\n",
       "    </tr>\n",
       "    <tr>\n",
       "      <th>0003_01</th>\n",
       "      <td>Europa</td>\n",
       "      <td>TRAPPIST-1e</td>\n",
       "      <td>58.0</td>\n",
       "      <td>True</td>\n",
       "      <td>43.0</td>\n",
       "      <td>False</td>\n",
       "      <td>Old</td>\n",
       "      <td>IV</td>\n",
       "    </tr>\n",
       "    <tr>\n",
       "      <th>0003_02</th>\n",
       "      <td>Europa</td>\n",
       "      <td>TRAPPIST-1e</td>\n",
       "      <td>33.0</td>\n",
       "      <td>False</td>\n",
       "      <td>0.0</td>\n",
       "      <td>False</td>\n",
       "      <td>Adult</td>\n",
       "      <td>IV</td>\n",
       "    </tr>\n",
       "    <tr>\n",
       "      <th>0004_01</th>\n",
       "      <td>Earth</td>\n",
       "      <td>TRAPPIST-1e</td>\n",
       "      <td>16.0</td>\n",
       "      <td>False</td>\n",
       "      <td>303.0</td>\n",
       "      <td>True</td>\n",
       "      <td>Young</td>\n",
       "      <td>IV</td>\n",
       "    </tr>\n",
       "  </tbody>\n",
       "</table>\n",
       "</div>"
      ],
      "text/plain": [
       "            HomePlanet  Destination   Age    VIP  RoomService  Transported  \\\n",
       "PassengerId                                                                  \n",
       "0001_01         Europa  TRAPPIST-1e  39.0  False          0.0        False   \n",
       "0002_01          Earth  TRAPPIST-1e  24.0  False        109.0         True   \n",
       "0003_01         Europa  TRAPPIST-1e  58.0   True         43.0        False   \n",
       "0003_02         Europa  TRAPPIST-1e  33.0  False          0.0        False   \n",
       "0004_01          Earth  TRAPPIST-1e  16.0  False        303.0         True   \n",
       "\n",
       "            Age_Group RoomService_Group  \n",
       "PassengerId                              \n",
       "0001_01         Adult                IV  \n",
       "0002_01         Young                IV  \n",
       "0003_01           Old                IV  \n",
       "0003_02         Adult                IV  \n",
       "0004_01         Young                IV  "
      ]
     },
     "execution_count": 18,
     "metadata": {},
     "output_type": "execute_result"
    }
   ],
   "source": [
    "# grouping ages and room services\n",
    "grouped_data = data.copy()\n",
    "\n",
    "grouped_data.head()\n",
    "ages = ['Old', 'Adult', 'Young']\n",
    "rooms = ['I', 'II', 'III', 'IV']\n",
    "grouping_categories(grouped_data, 'Age', ages)\n",
    "grouping_categories(grouped_data, 'RoomService', rooms, division=4)\n",
    "grouped_data.head()"
   ]
  },
  {
   "cell_type": "markdown",
   "id": "cd48f4c2",
   "metadata": {
    "papermill": {
     "duration": 0.011688,
     "end_time": "2022-11-18T21:16:49.571734",
     "exception": false,
     "start_time": "2022-11-18T21:16:49.560046",
     "status": "completed"
    },
    "tags": []
   },
   "source": [
    "### Which age interval was more transported?"
   ]
  },
  {
   "cell_type": "code",
   "execution_count": 19,
   "id": "1f395ff8",
   "metadata": {
    "execution": {
     "iopub.execute_input": "2022-11-18T21:16:49.597695Z",
     "iopub.status.busy": "2022-11-18T21:16:49.597290Z",
     "iopub.status.idle": "2022-11-18T21:16:49.616148Z",
     "shell.execute_reply": "2022-11-18T21:16:49.615019Z"
    },
    "papermill": {
     "duration": 0.034744,
     "end_time": "2022-11-18T21:16:49.618692",
     "exception": false,
     "start_time": "2022-11-18T21:16:49.583948",
     "status": "completed"
    },
    "tags": []
   },
   "outputs": [
    {
     "data": {
      "text/html": [
       "<div>\n",
       "<style scoped>\n",
       "    .dataframe tbody tr th:only-of-type {\n",
       "        vertical-align: middle;\n",
       "    }\n",
       "\n",
       "    .dataframe tbody tr th {\n",
       "        vertical-align: top;\n",
       "    }\n",
       "\n",
       "    .dataframe thead th {\n",
       "        text-align: right;\n",
       "    }\n",
       "</style>\n",
       "<table border=\"1\" class=\"dataframe\">\n",
       "  <thead>\n",
       "    <tr style=\"text-align: right;\">\n",
       "      <th></th>\n",
       "      <th></th>\n",
       "      <th>Percent</th>\n",
       "    </tr>\n",
       "    <tr>\n",
       "      <th>Age_Group</th>\n",
       "      <th>Transported</th>\n",
       "      <th></th>\n",
       "    </tr>\n",
       "  </thead>\n",
       "  <tbody>\n",
       "    <tr>\n",
       "      <th rowspan=\"2\" valign=\"top\">Young</th>\n",
       "      <th>True</th>\n",
       "      <td>0.255904</td>\n",
       "    </tr>\n",
       "    <tr>\n",
       "      <th>False</th>\n",
       "      <td>0.233345</td>\n",
       "    </tr>\n",
       "    <tr>\n",
       "      <th rowspan=\"2\" valign=\"top\">Adult</th>\n",
       "      <th>False</th>\n",
       "      <td>0.225825</td>\n",
       "    </tr>\n",
       "    <tr>\n",
       "      <th>True</th>\n",
       "      <td>0.211726</td>\n",
       "    </tr>\n",
       "    <tr>\n",
       "      <th rowspan=\"2\" valign=\"top\">Old</th>\n",
       "      <th>False</th>\n",
       "      <td>0.037011</td>\n",
       "    </tr>\n",
       "    <tr>\n",
       "      <th>True</th>\n",
       "      <td>0.036188</td>\n",
       "    </tr>\n",
       "  </tbody>\n",
       "</table>\n",
       "</div>"
      ],
      "text/plain": [
       "                        Percent\n",
       "Age_Group Transported          \n",
       "Young     True         0.255904\n",
       "          False        0.233345\n",
       "Adult     False        0.225825\n",
       "          True         0.211726\n",
       "Old       False        0.037011\n",
       "          True         0.036188"
      ]
     },
     "execution_count": 19,
     "metadata": {},
     "output_type": "execute_result"
    }
   ],
   "source": [
    "columns = ['Age_Group', 'Transported']\n",
    "df_pivot = grouped_data[columns]\n",
    "df_pivot = pd.DataFrame(df_pivot.value_counts(normalize=True), columns=['Percent'])\n",
    "df_pivot"
   ]
  },
  {
   "cell_type": "code",
   "execution_count": 20,
   "id": "5072677a",
   "metadata": {
    "execution": {
     "iopub.execute_input": "2022-11-18T21:16:49.645748Z",
     "iopub.status.busy": "2022-11-18T21:16:49.645348Z",
     "iopub.status.idle": "2022-11-18T21:16:49.913266Z",
     "shell.execute_reply": "2022-11-18T21:16:49.912003Z"
    },
    "papermill": {
     "duration": 0.284781,
     "end_time": "2022-11-18T21:16:49.915860",
     "exception": false,
     "start_time": "2022-11-18T21:16:49.631079",
     "status": "completed"
    },
    "tags": []
   },
   "outputs": [
    {
     "data": {
      "image/png": "[encoded data removed]",
      "text/plain": [
       "<Figure size 576x288 with 1 Axes>"
      ]
     },
     "metadata": {
      "needs_background": "light"
     },
     "output_type": "display_data"
    }
   ],
   "source": [
    "df_pivot = grouped_data[columns]\n",
    "df_pivot = df_pivot.groupby(columns).size().unstack()\n",
    "\n",
    "ax = df_pivot.plot(kind='bar', stacked=True, title='Age', rot=0, figsize=(8, 4))\n",
    "for container in ax.containers:\n",
    "    ax.bar_label(container)\n",
    "\n",
    "plt.ylabel('Quantities')\n",
    "plt.show()"
   ]
  },
  {
   "cell_type": "markdown",
   "id": "4837dfde",
   "metadata": {
    "papermill": {
     "duration": 0.012525,
     "end_time": "2022-11-18T21:16:49.941088",
     "exception": false,
     "start_time": "2022-11-18T21:16:49.928563",
     "status": "completed"
    },
    "tags": []
   },
   "source": [
    "Young people: person that is less than 26 years old!\n",
    "\n",
    "#### Which age exactly?"
   ]
  },
  {
   "cell_type": "code",
   "execution_count": 21,
   "id": "de445148",
   "metadata": {
    "execution": {
     "iopub.execute_input": "2022-11-18T21:16:49.968147Z",
     "iopub.status.busy": "2022-11-18T21:16:49.967393Z",
     "iopub.status.idle": "2022-11-18T21:16:49.989293Z",
     "shell.execute_reply": "2022-11-18T21:16:49.988266Z"
    },
    "papermill": {
     "duration": 0.038252,
     "end_time": "2022-11-18T21:16:49.991894",
     "exception": false,
     "start_time": "2022-11-18T21:16:49.953642",
     "status": "completed"
    },
    "tags": []
   },
   "outputs": [
    {
     "data": {
      "text/html": [
       "<div>\n",
       "<style scoped>\n",
       "    .dataframe tbody tr th:only-of-type {\n",
       "        vertical-align: middle;\n",
       "    }\n",
       "\n",
       "    .dataframe tbody tr th {\n",
       "        vertical-align: top;\n",
       "    }\n",
       "\n",
       "    .dataframe thead tr th {\n",
       "        text-align: left;\n",
       "    }\n",
       "\n",
       "    .dataframe thead tr:last-of-type th {\n",
       "        text-align: right;\n",
       "    }\n",
       "</style>\n",
       "<table border=\"1\" class=\"dataframe\">\n",
       "  <thead>\n",
       "    <tr>\n",
       "      <th></th>\n",
       "      <th colspan=\"3\" halign=\"left\">Age</th>\n",
       "    </tr>\n",
       "    <tr>\n",
       "      <th></th>\n",
       "      <th>min</th>\n",
       "      <th>mean</th>\n",
       "      <th>max</th>\n",
       "    </tr>\n",
       "    <tr>\n",
       "      <th>Transported</th>\n",
       "      <th></th>\n",
       "      <th></th>\n",
       "      <th></th>\n",
       "    </tr>\n",
       "  </thead>\n",
       "  <tbody>\n",
       "    <tr>\n",
       "      <th>False</th>\n",
       "      <td>0.0</td>\n",
       "      <td>29.922858</td>\n",
       "      <td>79.0</td>\n",
       "    </tr>\n",
       "    <tr>\n",
       "      <th>True</th>\n",
       "      <td>0.0</td>\n",
       "      <td>27.748834</td>\n",
       "      <td>78.0</td>\n",
       "    </tr>\n",
       "  </tbody>\n",
       "</table>\n",
       "</div>"
      ],
      "text/plain": [
       "             Age                 \n",
       "             min       mean   max\n",
       "Transported                      \n",
       "False        0.0  29.922858  79.0\n",
       "True         0.0  27.748834  78.0"
      ]
     },
     "execution_count": 21,
     "metadata": {},
     "output_type": "execute_result"
    }
   ],
   "source": [
    "columns = ['Age', 'Transported']\n",
    "df_pivot = grouped_data[columns]\n",
    "\n",
    "age_transp = df_pivot.groupby('Transported').agg(['min', 'mean', 'max'])\n",
    "age_transp"
   ]
  },
  {
   "cell_type": "code",
   "execution_count": 22,
   "id": "3cf946c3",
   "metadata": {
    "execution": {
     "iopub.execute_input": "2022-11-18T21:16:50.019560Z",
     "iopub.status.busy": "2022-11-18T21:16:50.019137Z",
     "iopub.status.idle": "2022-11-18T21:16:50.451650Z",
     "shell.execute_reply": "2022-11-18T21:16:50.450503Z"
    },
    "papermill": {
     "duration": 0.449589,
     "end_time": "2022-11-18T21:16:50.454452",
     "exception": false,
     "start_time": "2022-11-18T21:16:50.004863",
     "status": "completed"
    },
    "tags": []
   },
   "outputs": [
    {
     "data": {
      "image/png": "[encoded data removed]",
      "text/plain": [
       "<Figure size 432x288 with 1 Axes>"
      ]
     },
     "metadata": {
      "needs_background": "light"
     },
     "output_type": "display_data"
    }
   ],
   "source": [
    "df_pivot['Age'].plot(kind='hist', bins=20, alpha=0.65, color='g')\n",
    "df_pivot['Age'].plot(kind='kde')\n",
    "plt.axvline(df_pivot['Age'].mean(), color='k', linestyle='dashed', linewidth=1)\n",
    "\n",
    "min_ylim, max_ylim = plt.ylim()\n",
    "plt.text(df_pivot['Age'].mean()*1.1, max_ylim*0.9, 'Mean: {:.2f}'.format(df_pivot['Age'].mean()))\n",
    "plt.show()"
   ]
  },
  {
   "cell_type": "code",
   "execution_count": 23,
   "id": "ccb0e0bc",
   "metadata": {
    "execution": {
     "iopub.execute_input": "2022-11-18T21:16:50.482656Z",
     "iopub.status.busy": "2022-11-18T21:16:50.482248Z",
     "iopub.status.idle": "2022-11-18T21:16:50.505844Z",
     "shell.execute_reply": "2022-11-18T21:16:50.504695Z"
    },
    "papermill": {
     "duration": 0.040704,
     "end_time": "2022-11-18T21:16:50.508557",
     "exception": false,
     "start_time": "2022-11-18T21:16:50.467853",
     "status": "completed"
    },
    "tags": []
   },
   "outputs": [
    {
     "data": {
      "text/html": [
       "<div>\n",
       "<style scoped>\n",
       "    .dataframe tbody tr th:only-of-type {\n",
       "        vertical-align: middle;\n",
       "    }\n",
       "\n",
       "    .dataframe tbody tr th {\n",
       "        vertical-align: top;\n",
       "    }\n",
       "\n",
       "    .dataframe thead th {\n",
       "        text-align: right;\n",
       "    }\n",
       "</style>\n",
       "<table border=\"1\" class=\"dataframe\">\n",
       "  <thead>\n",
       "    <tr style=\"text-align: right;\">\n",
       "      <th></th>\n",
       "      <th>Age</th>\n",
       "      <th>Transported</th>\n",
       "      <th>Age_Group</th>\n",
       "    </tr>\n",
       "    <tr>\n",
       "      <th>PassengerId</th>\n",
       "      <th></th>\n",
       "      <th></th>\n",
       "      <th></th>\n",
       "    </tr>\n",
       "  </thead>\n",
       "  <tbody>\n",
       "    <tr>\n",
       "      <th>0002_01</th>\n",
       "      <td>24.0</td>\n",
       "      <td>True</td>\n",
       "      <td>0-5</td>\n",
       "    </tr>\n",
       "    <tr>\n",
       "      <th>0004_01</th>\n",
       "      <td>16.0</td>\n",
       "      <td>True</td>\n",
       "      <td>6-12</td>\n",
       "    </tr>\n",
       "    <tr>\n",
       "      <th>0008_01</th>\n",
       "      <td>14.0</td>\n",
       "      <td>True</td>\n",
       "      <td>13-17</td>\n",
       "    </tr>\n",
       "    <tr>\n",
       "      <th>0015_01</th>\n",
       "      <td>24.0</td>\n",
       "      <td>False</td>\n",
       "      <td>0-5</td>\n",
       "    </tr>\n",
       "    <tr>\n",
       "      <th>0017_01</th>\n",
       "      <td>0.0</td>\n",
       "      <td>True</td>\n",
       "      <td>23-25</td>\n",
       "    </tr>\n",
       "    <tr>\n",
       "      <th>...</th>\n",
       "      <td>...</td>\n",
       "      <td>...</td>\n",
       "      <td>...</td>\n",
       "    </tr>\n",
       "    <tr>\n",
       "      <th>9267_02</th>\n",
       "      <td>20.0</td>\n",
       "      <td>True</td>\n",
       "      <td>0-5</td>\n",
       "    </tr>\n",
       "    <tr>\n",
       "      <th>9272_02</th>\n",
       "      <td>21.0</td>\n",
       "      <td>False</td>\n",
       "      <td>0-5</td>\n",
       "    </tr>\n",
       "    <tr>\n",
       "      <th>9274_01</th>\n",
       "      <td>23.0</td>\n",
       "      <td>True</td>\n",
       "      <td>0-5</td>\n",
       "    </tr>\n",
       "    <tr>\n",
       "      <th>9275_01</th>\n",
       "      <td>0.0</td>\n",
       "      <td>True</td>\n",
       "      <td>23-25</td>\n",
       "    </tr>\n",
       "    <tr>\n",
       "      <th>9278_01</th>\n",
       "      <td>18.0</td>\n",
       "      <td>False</td>\n",
       "      <td>6-12</td>\n",
       "    </tr>\n",
       "  </tbody>\n",
       "</table>\n",
       "<p>3896 rows × 3 columns</p>\n",
       "</div>"
      ],
      "text/plain": [
       "              Age  Transported Age_Group\n",
       "PassengerId                             \n",
       "0002_01      24.0         True       0-5\n",
       "0004_01      16.0         True      6-12\n",
       "0008_01      14.0         True     13-17\n",
       "0015_01      24.0        False       0-5\n",
       "0017_01       0.0         True     23-25\n",
       "...           ...          ...       ...\n",
       "9267_02      20.0         True       0-5\n",
       "9272_02      21.0        False       0-5\n",
       "9274_01      23.0         True       0-5\n",
       "9275_01       0.0         True     23-25\n",
       "9278_01      18.0        False      6-12\n",
       "\n",
       "[3896 rows x 3 columns]"
      ]
     },
     "execution_count": 23,
     "metadata": {},
     "output_type": "execute_result"
    }
   ],
   "source": [
    "youngest = pd.DataFrame(df_pivot.loc[df_pivot['Age'] < 26], columns=columns)\n",
    "grouping_categories(youngest, 'Age', ['0-5', '6-12', '13-17', '18-22', '23-25'], division=5)\n",
    "\n",
    "youngest"
   ]
  },
  {
   "cell_type": "code",
   "execution_count": 24,
   "id": "e9dda678",
   "metadata": {
    "execution": {
     "iopub.execute_input": "2022-11-18T21:16:50.537419Z",
     "iopub.status.busy": "2022-11-18T21:16:50.536988Z",
     "iopub.status.idle": "2022-11-18T21:16:50.553306Z",
     "shell.execute_reply": "2022-11-18T21:16:50.552212Z"
    },
    "papermill": {
     "duration": 0.033739,
     "end_time": "2022-11-18T21:16:50.555841",
     "exception": false,
     "start_time": "2022-11-18T21:16:50.522102",
     "status": "completed"
    },
    "tags": []
   },
   "outputs": [
    {
     "data": {
      "text/html": [
       "<div>\n",
       "<style scoped>\n",
       "    .dataframe tbody tr th:only-of-type {\n",
       "        vertical-align: middle;\n",
       "    }\n",
       "\n",
       "    .dataframe tbody tr th {\n",
       "        vertical-align: top;\n",
       "    }\n",
       "\n",
       "    .dataframe thead th {\n",
       "        text-align: right;\n",
       "    }\n",
       "</style>\n",
       "<table border=\"1\" class=\"dataframe\">\n",
       "  <thead>\n",
       "    <tr style=\"text-align: right;\">\n",
       "      <th></th>\n",
       "      <th></th>\n",
       "      <th>Percent %</th>\n",
       "    </tr>\n",
       "    <tr>\n",
       "      <th>Transported</th>\n",
       "      <th>Age_Group</th>\n",
       "      <th></th>\n",
       "    </tr>\n",
       "  </thead>\n",
       "  <tbody>\n",
       "    <tr>\n",
       "      <th>False</th>\n",
       "      <th>0-5</th>\n",
       "      <td>0.228032</td>\n",
       "    </tr>\n",
       "    <tr>\n",
       "      <th rowspan=\"2\" valign=\"top\">True</th>\n",
       "      <th>0-5</th>\n",
       "      <td>0.181221</td>\n",
       "    </tr>\n",
       "    <tr>\n",
       "      <th>6-12</th>\n",
       "      <td>0.152751</td>\n",
       "    </tr>\n",
       "    <tr>\n",
       "      <th>False</th>\n",
       "      <th>6-12</th>\n",
       "      <td>0.140980</td>\n",
       "    </tr>\n",
       "    <tr>\n",
       "      <th rowspan=\"2\" valign=\"top\">True</th>\n",
       "      <th>23-25</th>\n",
       "      <td>0.098002</td>\n",
       "    </tr>\n",
       "    <tr>\n",
       "      <th>13-17</th>\n",
       "      <td>0.062962</td>\n",
       "    </tr>\n",
       "    <tr>\n",
       "      <th>False</th>\n",
       "      <th>13-17</th>\n",
       "      <td>0.048180</td>\n",
       "    </tr>\n",
       "    <tr>\n",
       "      <th>True</th>\n",
       "      <th>18-22</th>\n",
       "      <td>0.034218</td>\n",
       "    </tr>\n",
       "    <tr>\n",
       "      <th rowspan=\"2\" valign=\"top\">False</th>\n",
       "      <th>23-25</th>\n",
       "      <td>0.029565</td>\n",
       "    </tr>\n",
       "    <tr>\n",
       "      <th>18-22</th>\n",
       "      <td>0.024090</td>\n",
       "    </tr>\n",
       "  </tbody>\n",
       "</table>\n",
       "</div>"
      ],
      "text/plain": [
       "                       Percent %\n",
       "Transported Age_Group           \n",
       "False       0-5         0.228032\n",
       "True        0-5         0.181221\n",
       "            6-12        0.152751\n",
       "False       6-12        0.140980\n",
       "True        23-25       0.098002\n",
       "            13-17       0.062962\n",
       "False       13-17       0.048180\n",
       "True        18-22       0.034218\n",
       "False       23-25       0.029565\n",
       "            18-22       0.024090"
      ]
     },
     "execution_count": 24,
     "metadata": {},
     "output_type": "execute_result"
    }
   ],
   "source": [
    "youngest.drop(columns=['Age'], inplace=True)\n",
    "pd.DataFrame(youngest.value_counts(normalize=True), columns=['Percent %'])"
   ]
  },
  {
   "cell_type": "code",
   "execution_count": 25,
   "id": "b2ca22cf",
   "metadata": {
    "execution": {
     "iopub.execute_input": "2022-11-18T21:16:50.585585Z",
     "iopub.status.busy": "2022-11-18T21:16:50.584742Z",
     "iopub.status.idle": "2022-11-18T21:16:50.848658Z",
     "shell.execute_reply": "2022-11-18T21:16:50.847202Z"
    },
    "papermill": {
     "duration": 0.281643,
     "end_time": "2022-11-18T21:16:50.851281",
     "exception": false,
     "start_time": "2022-11-18T21:16:50.569638",
     "status": "completed"
    },
    "tags": []
   },
   "outputs": [
    {
     "data": {
      "image/png": "[encoded data removed]",
      "text/plain": [
       "<Figure size 576x288 with 1 Axes>"
      ]
     },
     "metadata": {
      "needs_background": "light"
     },
     "output_type": "display_data"
    }
   ],
   "source": [
    "columns = ['Age_Group', 'Transported']\n",
    "df_pivot = youngest[columns]\n",
    "df_pivot = df_pivot.groupby(columns).size().unstack()\n",
    "\n",
    "ax = df_pivot.plot(kind='bar', stacked=True, title='Age', rot=0, figsize=(8, 4))\n",
    "for container in ax.containers:\n",
    "    ax.bar_label(container)\n",
    "\n",
    "plt.ylabel('Quantities')\n",
    "plt.show()"
   ]
  },
  {
   "cell_type": "markdown",
   "id": "1301e3b1",
   "metadata": {
    "papermill": {
     "duration": 0.013477,
     "end_time": "2022-11-18T21:16:50.878613",
     "exception": false,
     "start_time": "2022-11-18T21:16:50.865136",
     "status": "completed"
    },
    "tags": []
   },
   "source": [
    "0 to 5 years is the most part of the yougest people on the ship!"
   ]
  },
  {
   "cell_type": "markdown",
   "id": "48a06347",
   "metadata": {
    "papermill": {
     "duration": 0.013413,
     "end_time": "2022-11-18T21:16:50.905837",
     "exception": false,
     "start_time": "2022-11-18T21:16:50.892424",
     "status": "completed"
    },
    "tags": []
   },
   "source": [
    "### What about the rooms?"
   ]
  },
  {
   "cell_type": "code",
   "execution_count": 26,
   "id": "c93963c6",
   "metadata": {
    "execution": {
     "iopub.execute_input": "2022-11-18T21:16:50.935900Z",
     "iopub.status.busy": "2022-11-18T21:16:50.935158Z",
     "iopub.status.idle": "2022-11-18T21:16:51.182592Z",
     "shell.execute_reply": "2022-11-18T21:16:51.181314Z"
    },
    "papermill": {
     "duration": 0.26584,
     "end_time": "2022-11-18T21:16:51.185356",
     "exception": false,
     "start_time": "2022-11-18T21:16:50.919516",
     "status": "completed"
    },
    "tags": []
   },
   "outputs": [
    {
     "data": {
      "image/png": "[encoded data removed]",
      "text/plain": [
       "<Figure size 576x720 with 1 Axes>"
      ]
     },
     "metadata": {
      "needs_background": "light"
     },
     "output_type": "display_data"
    }
   ],
   "source": [
    "columns = ['RoomService_Group', 'Transported']\n",
    "df_pivot = grouped_data[columns]\n",
    "\n",
    "df_pivot = grouped_data[columns]\n",
    "df_pivot = df_pivot.groupby(columns).size().unstack()\n",
    "\n",
    "ax = df_pivot.plot(kind='bar', stacked=True, title='Age', rot=0, figsize=(8, 10))\n",
    "for container in ax.containers:\n",
    "    ax.bar_label(container)\n",
    "plt.ylabel('Quantities')\n",
    "plt.show()"
   ]
  },
  {
   "cell_type": "code",
   "execution_count": 27,
   "id": "38f525f7",
   "metadata": {
    "execution": {
     "iopub.execute_input": "2022-11-18T21:16:51.216595Z",
     "iopub.status.busy": "2022-11-18T21:16:51.215947Z",
     "iopub.status.idle": "2022-11-18T21:16:51.414139Z",
     "shell.execute_reply": "2022-11-18T21:16:51.412932Z"
    },
    "papermill": {
     "duration": 0.216776,
     "end_time": "2022-11-18T21:16:51.416831",
     "exception": false,
     "start_time": "2022-11-18T21:16:51.200055",
     "status": "completed"
    },
    "tags": []
   },
   "outputs": [
    {
     "data": {
      "image/png": "[encoded data removed]",
      "text/plain": [
       "<Figure size 432x288 with 1 Axes>"
      ]
     },
     "metadata": {
      "needs_background": "light"
     },
     "output_type": "display_data"
    }
   ],
   "source": [
    "ax = grouped_data['RoomService'].plot.hist(bins=5, alpha=0.5)\n",
    "\n",
    "plt.show()"
   ]
  },
  {
   "cell_type": "markdown",
   "id": "fec8004d",
   "metadata": {
    "papermill": {
     "duration": 0.015173,
     "end_time": "2022-11-18T21:16:51.446811",
     "exception": false,
     "start_time": "2022-11-18T21:16:51.431638",
     "status": "completed"
    },
    "tags": []
   },
   "source": [
    "### Does exist some relation between the transported people and the VIP's one?"
   ]
  },
  {
   "cell_type": "code",
   "execution_count": 28,
   "id": "bc8dc318",
   "metadata": {
    "execution": {
     "iopub.execute_input": "2022-11-18T21:16:51.479141Z",
     "iopub.status.busy": "2022-11-18T21:16:51.477952Z",
     "iopub.status.idle": "2022-11-18T21:16:51.493328Z",
     "shell.execute_reply": "2022-11-18T21:16:51.492452Z"
    },
    "papermill": {
     "duration": 0.033443,
     "end_time": "2022-11-18T21:16:51.495542",
     "exception": false,
     "start_time": "2022-11-18T21:16:51.462099",
     "status": "completed"
    },
    "tags": []
   },
   "outputs": [
    {
     "data": {
      "text/html": [
       "<div>\n",
       "<style scoped>\n",
       "    .dataframe tbody tr th:only-of-type {\n",
       "        vertical-align: middle;\n",
       "    }\n",
       "\n",
       "    .dataframe tbody tr th {\n",
       "        vertical-align: top;\n",
       "    }\n",
       "\n",
       "    .dataframe thead th {\n",
       "        text-align: right;\n",
       "    }\n",
       "</style>\n",
       "<table border=\"1\" class=\"dataframe\">\n",
       "  <thead>\n",
       "    <tr style=\"text-align: right;\">\n",
       "      <th></th>\n",
       "      <th></th>\n",
       "      <th>Percent %</th>\n",
       "    </tr>\n",
       "    <tr>\n",
       "      <th>VIP</th>\n",
       "      <th>Transported</th>\n",
       "      <th></th>\n",
       "    </tr>\n",
       "  </thead>\n",
       "  <tbody>\n",
       "    <tr>\n",
       "      <th rowspan=\"2\" valign=\"top\">False</th>\n",
       "      <th>True</th>\n",
       "      <td>0.494464</td>\n",
       "    </tr>\n",
       "    <tr>\n",
       "      <th>False</th>\n",
       "      <td>0.482097</td>\n",
       "    </tr>\n",
       "    <tr>\n",
       "      <th rowspan=\"2\" valign=\"top\">True</th>\n",
       "      <th>False</th>\n",
       "      <td>0.014488</td>\n",
       "    </tr>\n",
       "    <tr>\n",
       "      <th>True</th>\n",
       "      <td>0.008952</td>\n",
       "    </tr>\n",
       "  </tbody>\n",
       "</table>\n",
       "</div>"
      ],
      "text/plain": [
       "                   Percent %\n",
       "VIP   Transported           \n",
       "False True          0.494464\n",
       "      False         0.482097\n",
       "True  False         0.014488\n",
       "      True          0.008952"
      ]
     },
     "execution_count": 28,
     "metadata": {},
     "output_type": "execute_result"
    }
   ],
   "source": [
    "columns = ['VIP', 'Transported']\n",
    "df_pivot = grouped_data[columns]\n",
    "pd.DataFrame(df_pivot.value_counts(normalize=True), columns=['Percent %'])"
   ]
  },
  {
   "cell_type": "markdown",
   "id": "f6136b71",
   "metadata": {
    "papermill": {
     "duration": 0.014174,
     "end_time": "2022-11-18T21:16:51.524645",
     "exception": false,
     "start_time": "2022-11-18T21:16:51.510471",
     "status": "completed"
    },
    "tags": []
   },
   "source": [
    "Passegers who were NOT VIP were carried more!"
   ]
  },
  {
   "cell_type": "markdown",
   "id": "d97a0975",
   "metadata": {
    "papermill": {
     "duration": 0.013957,
     "end_time": "2022-11-18T21:16:51.554058",
     "exception": false,
     "start_time": "2022-11-18T21:16:51.540101",
     "status": "completed"
    },
    "tags": []
   },
   "source": [
    "### What about the destination and source places?"
   ]
  },
  {
   "cell_type": "code",
   "execution_count": 29,
   "id": "13c1da39",
   "metadata": {
    "execution": {
     "iopub.execute_input": "2022-11-18T21:16:51.585178Z",
     "iopub.status.busy": "2022-11-18T21:16:51.584395Z",
     "iopub.status.idle": "2022-11-18T21:16:51.600190Z",
     "shell.execute_reply": "2022-11-18T21:16:51.598934Z"
    },
    "papermill": {
     "duration": 0.034624,
     "end_time": "2022-11-18T21:16:51.603054",
     "exception": false,
     "start_time": "2022-11-18T21:16:51.568430",
     "status": "completed"
    },
    "tags": []
   },
   "outputs": [
    {
     "data": {
      "text/html": [
       "<div>\n",
       "<style scoped>\n",
       "    .dataframe tbody tr th:only-of-type {\n",
       "        vertical-align: middle;\n",
       "    }\n",
       "\n",
       "    .dataframe tbody tr th {\n",
       "        vertical-align: top;\n",
       "    }\n",
       "\n",
       "    .dataframe thead th {\n",
       "        text-align: right;\n",
       "    }\n",
       "</style>\n",
       "<table border=\"1\" class=\"dataframe\">\n",
       "  <thead>\n",
       "    <tr style=\"text-align: right;\">\n",
       "      <th></th>\n",
       "      <th></th>\n",
       "      <th>Percent %</th>\n",
       "    </tr>\n",
       "    <tr>\n",
       "      <th>Destination</th>\n",
       "      <th>Transported</th>\n",
       "      <th></th>\n",
       "    </tr>\n",
       "  </thead>\n",
       "  <tbody>\n",
       "    <tr>\n",
       "      <th rowspan=\"2\" valign=\"top\">TRAPPIST-1e</th>\n",
       "      <th>False</th>\n",
       "      <td>0.367524</td>\n",
       "    </tr>\n",
       "    <tr>\n",
       "      <th>True</th>\n",
       "      <td>0.327459</td>\n",
       "    </tr>\n",
       "    <tr>\n",
       "      <th rowspan=\"2\" valign=\"top\">55 Cancri e</th>\n",
       "      <th>True</th>\n",
       "      <td>0.129010</td>\n",
       "    </tr>\n",
       "    <tr>\n",
       "      <th>False</th>\n",
       "      <td>0.082481</td>\n",
       "    </tr>\n",
       "    <tr>\n",
       "      <th rowspan=\"2\" valign=\"top\">PSO J318.5-22</th>\n",
       "      <th>True</th>\n",
       "      <td>0.047115</td>\n",
       "    </tr>\n",
       "    <tr>\n",
       "      <th>False</th>\n",
       "      <td>0.046411</td>\n",
       "    </tr>\n",
       "  </tbody>\n",
       "</table>\n",
       "</div>"
      ],
      "text/plain": [
       "                           Percent %\n",
       "Destination   Transported           \n",
       "TRAPPIST-1e   False         0.367524\n",
       "              True          0.327459\n",
       "55 Cancri e   True          0.129010\n",
       "              False         0.082481\n",
       "PSO J318.5-22 True          0.047115\n",
       "              False         0.046411"
      ]
     },
     "execution_count": 29,
     "metadata": {},
     "output_type": "execute_result"
    }
   ],
   "source": [
    "columns = ['Destination', 'Transported']\n",
    "df_pivot = grouped_data[columns]\n",
    "pd.DataFrame(df_pivot.value_counts(normalize=True), columns=['Percent %'])"
   ]
  },
  {
   "cell_type": "markdown",
   "id": "4c12a6fd",
   "metadata": {
    "papermill": {
     "duration": 0.014815,
     "end_time": "2022-11-18T21:16:51.633262",
     "exception": false,
     "start_time": "2022-11-18T21:16:51.618447",
     "status": "completed"
    },
    "tags": []
   },
   "source": [
    "Passegers with 'TRAPPIST-1e' as destination place were transported less!"
   ]
  },
  {
   "cell_type": "code",
   "execution_count": 30,
   "id": "032bade4",
   "metadata": {
    "execution": {
     "iopub.execute_input": "2022-11-18T21:16:51.665634Z",
     "iopub.status.busy": "2022-11-18T21:16:51.665203Z",
     "iopub.status.idle": "2022-11-18T21:16:51.682096Z",
     "shell.execute_reply": "2022-11-18T21:16:51.681062Z"
    },
    "papermill": {
     "duration": 0.035754,
     "end_time": "2022-11-18T21:16:51.684638",
     "exception": false,
     "start_time": "2022-11-18T21:16:51.648884",
     "status": "completed"
    },
    "tags": []
   },
   "outputs": [
    {
     "data": {
      "text/html": [
       "<div>\n",
       "<style scoped>\n",
       "    .dataframe tbody tr th:only-of-type {\n",
       "        vertical-align: middle;\n",
       "    }\n",
       "\n",
       "    .dataframe tbody tr th {\n",
       "        vertical-align: top;\n",
       "    }\n",
       "\n",
       "    .dataframe thead th {\n",
       "        text-align: right;\n",
       "    }\n",
       "</style>\n",
       "<table border=\"1\" class=\"dataframe\">\n",
       "  <thead>\n",
       "    <tr style=\"text-align: right;\">\n",
       "      <th></th>\n",
       "      <th></th>\n",
       "      <th>Percent %</th>\n",
       "    </tr>\n",
       "    <tr>\n",
       "      <th>HomePlanet</th>\n",
       "      <th>Transported</th>\n",
       "      <th></th>\n",
       "    </tr>\n",
       "  </thead>\n",
       "  <tbody>\n",
       "    <tr>\n",
       "      <th rowspan=\"2\" valign=\"top\">Earth</th>\n",
       "      <th>False</th>\n",
       "      <td>0.312176</td>\n",
       "    </tr>\n",
       "    <tr>\n",
       "      <th>True</th>\n",
       "      <td>0.229746</td>\n",
       "    </tr>\n",
       "    <tr>\n",
       "      <th>Europa</th>\n",
       "      <th>True</th>\n",
       "      <td>0.165332</td>\n",
       "    </tr>\n",
       "    <tr>\n",
       "      <th rowspan=\"2\" valign=\"top\">Mars</th>\n",
       "      <th>True</th>\n",
       "      <td>0.108337</td>\n",
       "    </tr>\n",
       "    <tr>\n",
       "      <th>False</th>\n",
       "      <td>0.098799</td>\n",
       "    </tr>\n",
       "    <tr>\n",
       "      <th>Europa</th>\n",
       "      <th>False</th>\n",
       "      <td>0.085610</td>\n",
       "    </tr>\n",
       "  </tbody>\n",
       "</table>\n",
       "</div>"
      ],
      "text/plain": [
       "                        Percent %\n",
       "HomePlanet Transported           \n",
       "Earth      False         0.312176\n",
       "           True          0.229746\n",
       "Europa     True          0.165332\n",
       "Mars       True          0.108337\n",
       "           False         0.098799\n",
       "Europa     False         0.085610"
      ]
     },
     "execution_count": 30,
     "metadata": {},
     "output_type": "execute_result"
    }
   ],
   "source": [
    "columns = ['HomePlanet', 'Transported']\n",
    "df_pivot = grouped_data[columns]\n",
    "home_ = pd.DataFrame(df_pivot.value_counts(normalize=True), columns=['Percent %'])\n",
    "home_"
   ]
  },
  {
   "cell_type": "code",
   "execution_count": 31,
   "id": "eb22967f",
   "metadata": {
    "execution": {
     "iopub.execute_input": "2022-11-18T21:16:51.716562Z",
     "iopub.status.busy": "2022-11-18T21:16:51.716122Z",
     "iopub.status.idle": "2022-11-18T21:16:51.977450Z",
     "shell.execute_reply": "2022-11-18T21:16:51.976016Z"
    },
    "papermill": {
     "duration": 0.280248,
     "end_time": "2022-11-18T21:16:51.979960",
     "exception": false,
     "start_time": "2022-11-18T21:16:51.699712",
     "status": "completed"
    },
    "tags": []
   },
   "outputs": [
    {
     "data": {
      "image/png": "[encoded data removed]",
      "text/plain": [
       "<Figure size 720x504 with 1 Axes>"
      ]
     },
     "metadata": {},
     "output_type": "display_data"
    }
   ],
   "source": [
    "att_count = home_.groupby('HomePlanet').sum()\n",
    "att_labels = home_.index.tolist()\n",
    "transported = home_.reset_index()['Percent %']\n",
    "labels = home_.reset_index()['Transported']\n",
    "\n",
    "size=0.4\n",
    "\n",
    "cmap = plt.get_cmap(\"tab20c\")\n",
    "outer_colors = cmap(np.arange(6)*4)\n",
    "inner_colors = cmap(np.array([1, 2, 5, 6, 9,\n",
    "                              10, 12, 13, 15,\n",
    "                              17, 18, 20 ]))\n",
    "fig, ax = plt.subplots(figsize =(10, 7))\n",
    "\n",
    "ax.pie(home_['Percent %'], radius=1, labels=att_labels, colors=outer_colors,\n",
    "       wedgeprops=dict(width=size, edgecolor='w'),\n",
    "       # autopct='%1.1f%%'\n",
    "       )\n",
    "\n",
    "ax.pie(transported, radius=1-size, colors=inner_colors, \n",
    "       labels=labels,\n",
    "       wedgeprops=dict(width=size, edgecolor='w'), \n",
    "       autopct='%1.1f%%'\n",
    "       )\n",
    "\n",
    "ax.set(aspect=\"equal\", title='HomePlanet & Was transported?')\n",
    "\n",
    "plt.show()"
   ]
  },
  {
   "cell_type": "markdown",
   "id": "777f1775",
   "metadata": {
    "papermill": {
     "duration": 0.015555,
     "end_time": "2022-11-18T21:16:52.011788",
     "exception": false,
     "start_time": "2022-11-18T21:16:51.996233",
     "status": "completed"
    },
    "tags": []
   },
   "source": [
    "More passegers from Earth were transported by the ship than from other planets!"
   ]
  }
 ],
 "metadata": {
  "kernelspec": {
   "display_name": "Python 3",
   "language": "python",
   "name": "python3"
  },
  "language_info": {
   "codemirror_mode": {
    "name": "ipython",
    "version": 3
   },
   "file_extension": ".py",
   "mimetype": "text/x-python",
   "name": "python",
   "nbconvert_exporter": "python",
   "pygments_lexer": "ipython3",
   "version": "3.7.12"
  },
  "papermill": {
   "default_parameters": {},
   "duration": 14.08776,
   "end_time": "2022-11-18T21:16:52.750132",
   "environment_variables": {},
   "exception": null,
   "input_path": "__notebook__.ipynb",
   "output_path": "__notebook__.ipynb",
   "parameters": {},
   "start_time": "2022-11-18T21:16:38.662372",
   "version": "2.3.4"
  }
 },
 "nbformat": 4,
 "nbformat_minor": 5
}
